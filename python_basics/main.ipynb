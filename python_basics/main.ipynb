{
 "cells": [
  {
   "cell_type": "markdown",
   "id": "5c6e1140-7ffc-441e-95be-fcea26fdfd52",
   "metadata": {},
   "source": [
    "### April 23, 2022"
   ]
  },
  {
   "cell_type": "code",
   "execution_count": 5,
   "id": "774999e9-4c1b-43ee-b568-55ad21ab32d3",
   "metadata": {},
   "outputs": [],
   "source": [
    "language = 'python'"
   ]
  },
  {
   "cell_type": "markdown",
   "id": "cde65058-206a-41e9-9e7a-1ea3129d5cb0",
   "metadata": {},
   "source": [
    "#### Print Formatting\n",
    "With string concatenation or modification, I had only been able to write as following:"
   ]
  },
  {
   "cell_type": "code",
   "execution_count": 6,
   "id": "92635056-d145-4979-9a33-783cbc3bf185",
   "metadata": {},
   "outputs": [
    {
     "name": "stdout",
     "output_type": "stream",
     "text": [
      "A demonstration of the programming language, python\n"
     ]
    }
   ],
   "source": [
    "print(\"A demonstration of the programming language, \" + language)"
   ]
  },
  {
   "cell_type": "markdown",
   "id": "c724f395-9684-4c2a-bc5b-0b3cfe7dda95",
   "metadata": {},
   "source": [
    "There is this cool trick using the 'format' function that I have seen many times, but never got to the bottom of:"
   ]
  },
  {
   "cell_type": "code",
   "execution_count": 7,
   "id": "78f56d01-fd5d-468a-8851-f0f68b1366ac",
   "metadata": {},
   "outputs": [
    {
     "name": "stdout",
     "output_type": "stream",
     "text": [
      "A demonstration of the programming language, python\n"
     ]
    }
   ],
   "source": [
    "print(\"A demonstration of the programming language, {}\".format(language))"
   ]
  },
  {
   "cell_type": "markdown",
   "id": "b17b4324-2bc5-4319-87e2-5c40adcf181a",
   "metadata": {},
   "source": [
    "However, this is still not the best way to write this line. With a technique called 'string interpolation', this can be as simple as:"
   ]
  },
  {
   "cell_type": "code",
   "execution_count": 8,
   "id": "29a6bcc4-e626-47a9-9d7b-1a7457ccf047",
   "metadata": {},
   "outputs": [
    {
     "name": "stdout",
     "output_type": "stream",
     "text": [
      "A demonstration of the programming language, python\n"
     ]
    }
   ],
   "source": [
    "print(f\"A demonstration of the programming language, {language}\")"
   ]
  }
 ],
 "metadata": {
  "kernelspec": {
   "display_name": "Python 3",
   "language": "python",
   "name": "python3"
  },
  "language_info": {
   "codemirror_mode": {
    "name": "ipython",
    "version": 3
   },
   "file_extension": ".py",
   "mimetype": "text/x-python",
   "name": "python",
   "nbconvert_exporter": "python",
   "pygments_lexer": "ipython3",
   "version": "3.8.8"
  }
 },
 "nbformat": 4,
 "nbformat_minor": 5
}
